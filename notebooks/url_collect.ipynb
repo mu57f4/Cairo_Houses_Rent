{
 "cells": [
  {
   "cell_type": "code",
   "execution_count": 12,
   "metadata": {},
   "outputs": [],
   "source": [
    "from selenium import webdriver\n",
    "from selenium.webdriver.common.by import By\n",
    "import time"
   ]
  },
  {
   "cell_type": "code",
   "execution_count": 13,
   "metadata": {},
   "outputs": [],
   "source": [
    "# create class instance\n",
    "driver = webdriver.Chrome()"
   ]
  },
  {
   "cell_type": "code",
   "execution_count": 3,
   "metadata": {},
   "outputs": [],
   "source": [
    "# list to collect the ads urls from the website\n",
    "ad_urls_list = []"
   ]
  },
  {
   "cell_type": "code",
   "execution_count": 4,
   "metadata": {},
   "outputs": [],
   "source": [
    "def collect_urls(n_page:int):\n",
    "    \"\"\"\n",
    "    This function loops through all websites pages and collects the ad urls\n",
    "    n_page: number of page to start from\n",
    "    \"\"\"\n",
    "    for i in range(n_page,200):\n",
    "        time.sleep(7)\n",
    "        ads = driver.find_elements(By.CLASS_NAME, '_7e3920c1')\n",
    "        for ad in ads:\n",
    "            ad_url = ad.find_element(By.CLASS_NAME, \"_9bea76df\").find_element(By.TAG_NAME, 'a').get_attribute('href')\n",
    "            # print(ad_url)\n",
    "            ad_urls_list.append(ad_url)\n",
    "        pages = driver.find_elements(By.CLASS_NAME, '_19e1b955 ')\n",
    "        pages[-1].click()"
   ]
  },
  {
   "cell_type": "code",
   "execution_count": 5,
   "metadata": {},
   "outputs": [],
   "source": [
    "driver.get('https://www.dubizzle.com.eg/en/properties/apartments-duplex-for-rent/cairo')"
   ]
  },
  {
   "cell_type": "code",
   "execution_count": 6,
   "metadata": {},
   "outputs": [],
   "source": [
    "collect_urls(n_page=0)"
   ]
  },
  {
   "cell_type": "code",
   "execution_count": 7,
   "metadata": {},
   "outputs": [
    {
     "data": {
      "text/plain": [
       "10000"
      ]
     },
     "execution_count": 7,
     "metadata": {},
     "output_type": "execute_result"
    }
   ],
   "source": [
    "len(ad_urls_list)"
   ]
  },
  {
   "cell_type": "code",
   "execution_count": 14,
   "metadata": {},
   "outputs": [],
   "source": [
    "driver.get('https://www.dubizzle.com.eg/en/properties/apartments-duplex-for-rent/giza')"
   ]
  },
  {
   "cell_type": "code",
   "execution_count": null,
   "metadata": {},
   "outputs": [],
   "source": [
    "collect_urls(n_page=0)"
   ]
  },
  {
   "cell_type": "code",
   "execution_count": 17,
   "metadata": {},
   "outputs": [
    {
     "data": {
      "text/plain": [
       "13835"
      ]
     },
     "execution_count": 17,
     "metadata": {},
     "output_type": "execute_result"
    }
   ],
   "source": [
    "len(ad_urls_list)"
   ]
  },
  {
   "cell_type": "code",
   "execution_count": 18,
   "metadata": {},
   "outputs": [
    {
     "name": "stdout",
     "output_type": "stream",
     "text": [
      "13835\n",
      "12107\n"
     ]
    }
   ],
   "source": [
    "# check for duplicated URLs\n",
    "seen = set()\n",
    "uniq_url = []\n",
    "for url in ad_urls_list:\n",
    "    if url not in seen:\n",
    "        uniq_url.append(url)\n",
    "        seen.add(url)\n",
    "print(len(ad_urls_list))\n",
    "print(len(uniq_url))"
   ]
  },
  {
   "cell_type": "code",
   "execution_count": 19,
   "metadata": {},
   "outputs": [],
   "source": [
    "# save the urls for future\n",
    "file = open('dataset/urls.txt','w')\n",
    "for url in uniq_url:\n",
    "\tfile.write(url+\"\\n\")\n",
    "file.close()"
   ]
  },
  {
   "cell_type": "code",
   "execution_count": null,
   "metadata": {},
   "outputs": [],
   "source": []
  }
 ],
 "metadata": {
  "kernelspec": {
   "display_name": "Python 3",
   "language": "python",
   "name": "python3"
  },
  "language_info": {
   "codemirror_mode": {
    "name": "ipython",
    "version": 3
   },
   "file_extension": ".py",
   "mimetype": "text/x-python",
   "name": "python",
   "nbconvert_exporter": "python",
   "pygments_lexer": "ipython3",
   "version": "3.11.3"
  }
 },
 "nbformat": 4,
 "nbformat_minor": 2
}
