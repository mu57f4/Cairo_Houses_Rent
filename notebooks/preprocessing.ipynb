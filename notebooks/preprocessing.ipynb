{
 "cells": [
  {
   "cell_type": "code",
   "execution_count": 1,
   "metadata": {},
   "outputs": [],
   "source": [
    "import pandas as pd\n",
    "import numpy as np\n",
    "import matplotlib.pyplot as plt\n",
    "import seaborn as sns\n",
    "import re\n",
    "\n",
    "pd.set_option('display.max_columns', 500)"
   ]
  },
  {
   "cell_type": "code",
   "execution_count": 2,
   "metadata": {},
   "outputs": [
    {
     "data": {
      "text/html": [
       "<div>\n",
       "<style scoped>\n",
       "    .dataframe tbody tr th:only-of-type {\n",
       "        vertical-align: middle;\n",
       "    }\n",
       "\n",
       "    .dataframe tbody tr th {\n",
       "        vertical-align: top;\n",
       "    }\n",
       "\n",
       "    .dataframe thead th {\n",
       "        text-align: right;\n",
       "    }\n",
       "</style>\n",
       "<table border=\"1\" class=\"dataframe\">\n",
       "  <thead>\n",
       "    <tr style=\"text-align: right;\">\n",
       "      <th></th>\n",
       "      <th>Description</th>\n",
       "      <th>Type</th>\n",
       "      <th>Price</th>\n",
       "      <th>Price Type</th>\n",
       "      <th>Video</th>\n",
       "      <th>Down Payment</th>\n",
       "      <th>Area (m²)</th>\n",
       "      <th>Bedrooms</th>\n",
       "      <th>Bathrooms</th>\n",
       "      <th>Level</th>\n",
       "      <th>Furnished</th>\n",
       "      <th>Virtual Tour</th>\n",
       "      <th>Area</th>\n",
       "      <th>City</th>\n",
       "      <th>Electricity Meter</th>\n",
       "      <th>Built in Kitchen Appliances</th>\n",
       "      <th>Water Meter</th>\n",
       "      <th>Elevator</th>\n",
       "      <th>Balcony</th>\n",
       "      <th>Natural Gas</th>\n",
       "      <th>Landline</th>\n",
       "      <th>Security</th>\n",
       "      <th>Central A/C &amp; heating</th>\n",
       "      <th>Covered Parking</th>\n",
       "      <th>Pets Allowed</th>\n",
       "      <th>Private Garden</th>\n",
       "      <th>Maids Room</th>\n",
       "      <th>Pool</th>\n",
       "      <th>Compound</th>\n",
       "    </tr>\n",
       "  </thead>\n",
       "  <tbody>\n",
       "    <tr>\n",
       "      <th>0</th>\n",
       "      <td>شقة فندقية للايجار المفروش في مدينتي في B11 ار...</td>\n",
       "      <td>Apartment</td>\n",
       "      <td>35,000</td>\n",
       "      <td>Price</td>\n",
       "      <td>Not Available</td>\n",
       "      <td>35,000</td>\n",
       "      <td>165</td>\n",
       "      <td>3</td>\n",
       "      <td>3</td>\n",
       "      <td>Ground</td>\n",
       "      <td>Yes</td>\n",
       "      <td>Not Available</td>\n",
       "      <td>Madinaty</td>\n",
       "      <td>Madinaty</td>\n",
       "      <td>Yes</td>\n",
       "      <td>Yes</td>\n",
       "      <td>Yes</td>\n",
       "      <td>No</td>\n",
       "      <td>Yes</td>\n",
       "      <td>Yes</td>\n",
       "      <td>No</td>\n",
       "      <td>Yes</td>\n",
       "      <td>Yes</td>\n",
       "      <td>No</td>\n",
       "      <td>No</td>\n",
       "      <td>Yes</td>\n",
       "      <td>No</td>\n",
       "      <td>No</td>\n",
       "      <td>NaN</td>\n",
       "    </tr>\n",
       "    <tr>\n",
       "      <th>1</th>\n",
       "      <td>For Rent Apartment In Uptown Cairo - Sierras\\n...</td>\n",
       "      <td>Apartment</td>\n",
       "      <td>77,000</td>\n",
       "      <td>Price</td>\n",
       "      <td>Not Available</td>\n",
       "      <td>NaN</td>\n",
       "      <td>225</td>\n",
       "      <td>3</td>\n",
       "      <td>3</td>\n",
       "      <td>NaN</td>\n",
       "      <td>Yes</td>\n",
       "      <td>Not Available</td>\n",
       "      <td>Uptown Cairo</td>\n",
       "      <td>Mokattam</td>\n",
       "      <td>No</td>\n",
       "      <td>No</td>\n",
       "      <td>No</td>\n",
       "      <td>No</td>\n",
       "      <td>Yes</td>\n",
       "      <td>No</td>\n",
       "      <td>No</td>\n",
       "      <td>Yes</td>\n",
       "      <td>No</td>\n",
       "      <td>Yes</td>\n",
       "      <td>Yes</td>\n",
       "      <td>No</td>\n",
       "      <td>Yes</td>\n",
       "      <td>No</td>\n",
       "      <td>NaN</td>\n",
       "    </tr>\n",
       "    <tr>\n",
       "      <th>2</th>\n",
       "      <td>خطوات من عباس العقاد\\nبشارع رئيسي مميز جدا \\nع...</td>\n",
       "      <td>Apartment</td>\n",
       "      <td>30,000</td>\n",
       "      <td>Price</td>\n",
       "      <td>Not Available</td>\n",
       "      <td>30,000</td>\n",
       "      <td>280</td>\n",
       "      <td>4</td>\n",
       "      <td>3</td>\n",
       "      <td>1</td>\n",
       "      <td>NaN</td>\n",
       "      <td>Not Available</td>\n",
       "      <td>Nasr City</td>\n",
       "      <td>Cairo</td>\n",
       "      <td>NaN</td>\n",
       "      <td>NaN</td>\n",
       "      <td>NaN</td>\n",
       "      <td>NaN</td>\n",
       "      <td>NaN</td>\n",
       "      <td>NaN</td>\n",
       "      <td>NaN</td>\n",
       "      <td>NaN</td>\n",
       "      <td>NaN</td>\n",
       "      <td>NaN</td>\n",
       "      <td>NaN</td>\n",
       "      <td>NaN</td>\n",
       "      <td>NaN</td>\n",
       "      <td>NaN</td>\n",
       "      <td>NaN</td>\n",
       "    </tr>\n",
       "    <tr>\n",
       "      <th>3</th>\n",
       "      <td>شقه مفروشه سوبر لوكس للايجار اليومي في موقع مم...</td>\n",
       "      <td>Apartment</td>\n",
       "      <td>1,500</td>\n",
       "      <td>Price</td>\n",
       "      <td>Not Available</td>\n",
       "      <td>NaN</td>\n",
       "      <td>120</td>\n",
       "      <td>3</td>\n",
       "      <td>2</td>\n",
       "      <td>2</td>\n",
       "      <td>Yes</td>\n",
       "      <td>Not Available</td>\n",
       "      <td>Nasr City</td>\n",
       "      <td>Cairo</td>\n",
       "      <td>Yes</td>\n",
       "      <td>Yes</td>\n",
       "      <td>Yes</td>\n",
       "      <td>No</td>\n",
       "      <td>Yes</td>\n",
       "      <td>Yes</td>\n",
       "      <td>No</td>\n",
       "      <td>No</td>\n",
       "      <td>Yes</td>\n",
       "      <td>No</td>\n",
       "      <td>No</td>\n",
       "      <td>No</td>\n",
       "      <td>No</td>\n",
       "      <td>No</td>\n",
       "      <td>NaN</td>\n",
       "    </tr>\n",
       "    <tr>\n",
       "      <th>4</th>\n",
       "      <td>J-V\\n\\nKatameya Heights\\nNew Cairo\\nDeveloper ...</td>\n",
       "      <td>Apartment</td>\n",
       "      <td>160,000</td>\n",
       "      <td>Price</td>\n",
       "      <td>Not Available</td>\n",
       "      <td>NaN</td>\n",
       "      <td>13.935</td>\n",
       "      <td>2</td>\n",
       "      <td>3</td>\n",
       "      <td>1</td>\n",
       "      <td>Yes</td>\n",
       "      <td>Not Available</td>\n",
       "      <td>Katameya Heights</td>\n",
       "      <td>New Cairo</td>\n",
       "      <td>Yes</td>\n",
       "      <td>No</td>\n",
       "      <td>Yes</td>\n",
       "      <td>No</td>\n",
       "      <td>Yes</td>\n",
       "      <td>No</td>\n",
       "      <td>No</td>\n",
       "      <td>Yes</td>\n",
       "      <td>Yes</td>\n",
       "      <td>No</td>\n",
       "      <td>Yes</td>\n",
       "      <td>No</td>\n",
       "      <td>No</td>\n",
       "      <td>No</td>\n",
       "      <td>NaN</td>\n",
       "    </tr>\n",
       "  </tbody>\n",
       "</table>\n",
       "</div>"
      ],
      "text/plain": [
       "                                         Description       Type    Price   \n",
       "0  شقة فندقية للايجار المفروش في مدينتي في B11 ار...  Apartment   35,000  \\\n",
       "1  For Rent Apartment In Uptown Cairo - Sierras\\n...  Apartment   77,000   \n",
       "2  خطوات من عباس العقاد\\nبشارع رئيسي مميز جدا \\nع...  Apartment   30,000   \n",
       "3  شقه مفروشه سوبر لوكس للايجار اليومي في موقع مم...  Apartment    1,500   \n",
       "4  J-V\\n\\nKatameya Heights\\nNew Cairo\\nDeveloper ...  Apartment  160,000   \n",
       "\n",
       "  Price Type          Video Down Payment Area (m²) Bedrooms  Bathrooms   \n",
       "0      Price  Not Available       35,000       165        3          3  \\\n",
       "1      Price  Not Available          NaN       225        3          3   \n",
       "2      Price  Not Available       30,000       280        4          3   \n",
       "3      Price  Not Available          NaN       120        3          2   \n",
       "4      Price  Not Available          NaN    13.935        2          3   \n",
       "\n",
       "    Level Furnished   Virtual Tour              Area       City   \n",
       "0  Ground       Yes  Not Available          Madinaty   Madinaty  \\\n",
       "1     NaN       Yes  Not Available      Uptown Cairo   Mokattam   \n",
       "2       1       NaN  Not Available         Nasr City      Cairo   \n",
       "3       2       Yes  Not Available         Nasr City      Cairo   \n",
       "4       1       Yes  Not Available  Katameya Heights  New Cairo   \n",
       "\n",
       "  Electricity Meter Built in Kitchen Appliances Water Meter Elevator Balcony   \n",
       "0               Yes                         Yes         Yes       No     Yes  \\\n",
       "1                No                          No          No       No     Yes   \n",
       "2               NaN                         NaN         NaN      NaN     NaN   \n",
       "3               Yes                         Yes         Yes       No     Yes   \n",
       "4               Yes                          No         Yes       No     Yes   \n",
       "\n",
       "  Natural Gas Landline Security Central A/C & heating Covered Parking   \n",
       "0         Yes       No      Yes                   Yes              No  \\\n",
       "1          No       No      Yes                    No             Yes   \n",
       "2         NaN      NaN      NaN                   NaN             NaN   \n",
       "3         Yes       No       No                   Yes              No   \n",
       "4          No       No      Yes                   Yes              No   \n",
       "\n",
       "  Pets Allowed Private Garden Maids Room Pool Compound  \n",
       "0           No            Yes         No   No      NaN  \n",
       "1          Yes             No        Yes   No      NaN  \n",
       "2          NaN            NaN        NaN  NaN      NaN  \n",
       "3           No             No         No   No      NaN  \n",
       "4          Yes             No         No   No      NaN  "
      ]
     },
     "execution_count": 2,
     "metadata": {},
     "output_type": "execute_result"
    }
   ],
   "source": [
    "data = pd.read_csv('../dataset/houses.csv')\n",
    "data.head()"
   ]
  },
  {
   "cell_type": "code",
   "execution_count": 3,
   "metadata": {},
   "outputs": [
    {
     "name": "stdout",
     "output_type": "stream",
     "text": [
      "<class 'pandas.core.frame.DataFrame'>\n",
      "RangeIndex: 12066 entries, 0 to 12065\n",
      "Data columns (total 29 columns):\n",
      " #   Column                       Non-Null Count  Dtype \n",
      "---  ------                       --------------  ----- \n",
      " 0   Description                  12066 non-null  object\n",
      " 1   Type                         12066 non-null  object\n",
      " 2   Price                        12066 non-null  object\n",
      " 3   Price Type                   12066 non-null  object\n",
      " 4   Video                        12066 non-null  object\n",
      " 5   Down Payment                 2697 non-null   object\n",
      " 6   Area (m²)                    12066 non-null  object\n",
      " 7   Bedrooms                     12066 non-null  object\n",
      " 8   Bathrooms                    12066 non-null  int64 \n",
      " 9   Level                        11499 non-null  object\n",
      " 10  Furnished                    10792 non-null  object\n",
      " 11  Virtual Tour                 12066 non-null  object\n",
      " 12  Area                         12026 non-null  object\n",
      " 13  City                         12026 non-null  object\n",
      " 14  Electricity Meter            9252 non-null   object\n",
      " 15  Built in Kitchen Appliances  9252 non-null   object\n",
      " 16  Water Meter                  9252 non-null   object\n",
      " 17  Elevator                     9252 non-null   object\n",
      " 18  Balcony                      9252 non-null   object\n",
      " 19  Natural Gas                  9252 non-null   object\n",
      " 20  Landline                     9252 non-null   object\n",
      " 21  Security                     9252 non-null   object\n",
      " 22  Central A/C & heating        9252 non-null   object\n",
      " 23  Covered Parking              9252 non-null   object\n",
      " 24  Pets Allowed                 9252 non-null   object\n",
      " 25  Private Garden               9252 non-null   object\n",
      " 26  Maids Room                   9252 non-null   object\n",
      " 27  Pool                         9252 non-null   object\n",
      " 28  Compound                     151 non-null    object\n",
      "dtypes: int64(1), object(28)\n",
      "memory usage: 2.7+ MB\n"
     ]
    }
   ],
   "source": [
    "data.info()"
   ]
  },
  {
   "cell_type": "code",
   "execution_count": 4,
   "metadata": {},
   "outputs": [
    {
     "data": {
      "text/plain": [
       "<Axes: >"
      ]
     },
     "execution_count": 4,
     "metadata": {},
     "output_type": "execute_result"
    },
    {
     "data": {
      "image/png": "[encoded data removed]",
      "text/plain": [
       "<Figure size 1200x500 with 2 Axes>"
      ]
     },
     "metadata": {},
     "output_type": "display_data"
    }
   ],
   "source": [
    "plt.figure(figsize=(12,5))\n",
    "sns.heatmap(data.isna())"
   ]
  },
  {
   "cell_type": "code",
   "execution_count": 5,
   "metadata": {},
   "outputs": [],
   "source": [
    "original_df = data.copy()"
   ]
  },
  {
   "cell_type": "markdown",
   "metadata": {},
   "source": [
    "## Here is the cleaning process:\n",
    "1. Clean continuous columns.\n",
    "2. Clean categorical columns.\n",
    "3. Encode the boolean/categorical columns.\n",
    "2. Impute the missing values."
   ]
  },
  {
   "cell_type": "code",
   "execution_count": 6,
   "metadata": {},
   "outputs": [
    {
     "data": {
      "text/html": [
       "<div>\n",
       "<style scoped>\n",
       "    .dataframe tbody tr th:only-of-type {\n",
       "        vertical-align: middle;\n",
       "    }\n",
       "\n",
       "    .dataframe tbody tr th {\n",
       "        vertical-align: top;\n",
       "    }\n",
       "\n",
       "    .dataframe thead th {\n",
       "        text-align: right;\n",
       "    }\n",
       "</style>\n",
       "<table border=\"1\" class=\"dataframe\">\n",
       "  <thead>\n",
       "    <tr style=\"text-align: right;\">\n",
       "      <th></th>\n",
       "      <th>Description</th>\n",
       "      <th>Type</th>\n",
       "      <th>Price</th>\n",
       "      <th>Price Type</th>\n",
       "      <th>Video</th>\n",
       "      <th>Down Payment</th>\n",
       "      <th>Area (m²)</th>\n",
       "      <th>Bedrooms</th>\n",
       "      <th>Bathrooms</th>\n",
       "      <th>Level</th>\n",
       "      <th>Furnished</th>\n",
       "      <th>Virtual Tour</th>\n",
       "      <th>Area</th>\n",
       "      <th>City</th>\n",
       "      <th>Electricity Meter</th>\n",
       "      <th>Built in Kitchen Appliances</th>\n",
       "      <th>Water Meter</th>\n",
       "      <th>Elevator</th>\n",
       "      <th>Balcony</th>\n",
       "      <th>Natural Gas</th>\n",
       "      <th>Landline</th>\n",
       "      <th>Security</th>\n",
       "      <th>Central A/C &amp; heating</th>\n",
       "      <th>Covered Parking</th>\n",
       "      <th>Pets Allowed</th>\n",
       "      <th>Private Garden</th>\n",
       "      <th>Maids Room</th>\n",
       "      <th>Pool</th>\n",
       "      <th>Compound</th>\n",
       "    </tr>\n",
       "  </thead>\n",
       "  <tbody>\n",
       "  </tbody>\n",
       "</table>\n",
       "</div>"
      ],
      "text/plain": [
       "Empty DataFrame\n",
       "Columns: [Description, Type, Price, Price Type, Video, Down Payment, Area (m²), Bedrooms, Bathrooms, Level, Furnished, Virtual Tour, Area, City, Electricity Meter, Built in Kitchen Appliances, Water Meter, Elevator, Balcony, Natural Gas, Landline, Security, Central A/C & heating, Covered Parking, Pets Allowed, Private Garden, Maids Room, Pool, Compound]\n",
       "Index: []"
      ]
     },
     "execution_count": 6,
     "metadata": {},
     "output_type": "execute_result"
    }
   ],
   "source": [
    "data[data.duplicated()]"
   ]
  },
  {
   "cell_type": "code",
   "execution_count": 7,
   "metadata": {},
   "outputs": [
    {
     "data": {
      "text/plain": [
       "array(['Apartment', 'Duplex', 'Studio', 'Penthouse', 'Room'], dtype=object)"
      ]
     },
     "execution_count": 7,
     "metadata": {},
     "output_type": "execute_result"
    }
   ],
   "source": [
    "data['Type'].unique()"
   ]
  },
  {
   "cell_type": "code",
   "execution_count": 8,
   "metadata": {},
   "outputs": [
    {
     "data": {
      "text/plain": [
       "array(['35,000', '77,000', '30,000', '1,500', '160,000', '22,000',\n",
       "       '8,300', '80,000', '13,000', '300', '17,000', '45,000', '3,000',\n",
       "       '20,000', '1,000', '66,000', '40,000', '12,000', '69,500',\n",
       "       '38,000', '27,000', '24,000', '7,500', '6,000', '19,000', '16,000',\n",
       "       '25,000', '50,000', '184,000', '18,000', '10,000', '60,000',\n",
       "       '15,000', '75,000', '9,500', '1,300', '55,000', '23,000', '49,000',\n",
       "       '26,000', '70,000', '8,000', '2,000', '11,000', '9,000', '7,000',\n",
       "       '13,500', '8,500', '1,700', '16,500', '29,000', '4,500', '14,000',\n",
       "       '6,500', '1,200', '5,500', '32,000', '2,250', '800', '11,500',\n",
       "       '5,800', '24,500', '1,600', '1,750', '5,000', '28,000', '3,500',\n",
       "       '1,650', '500', '6,000,000', '10,500', '2,500', '48,000', '15,500',\n",
       "       '12,500', '2,100', '47,000', '29,500', '65,000', '4,000', '600',\n",
       "       '85,000', '3,200', '700', '4,500,000', '1,550', '100,000',\n",
       "       '43,000', '39,000', '53,000', '18,500', '41,000', '31,000',\n",
       "       '1,250', '52,000', '6,800,000', '2,800', '37,000', '210,000',\n",
       "       '44,999', '750', '72,000', '73,000', '73,500', '17,500', '90,000',\n",
       "       '8,200', '150,000', '14,500', '18,700', '15,900', '3,300',\n",
       "       '33,000', '699', '2,600', '170,000', '1,040', '126,000', '117,000',\n",
       "       '600,000', '1,400', '62,000', '46,000', '7,200', '2,700', '15,700',\n",
       "       '34,000', '15,400', '6,400', '120,000', '67,000', '1,100', '2,900',\n",
       "       '67,200', '84,000', '28,500', '850', '22,500', '34,999', '8,700',\n",
       "       '1,800', '2,200', '130,000', '950', '1,799', '900', '61,000',\n",
       "       '112,000', '153,000', '16,700', '21,000', '95,000', '3,350',\n",
       "       '8,250', '86,000', '1,030', '400', '63,000', '440,000', '34,500',\n",
       "       '56,000', '6,750', '78,000', '33,500', '110,000', '200', '20,500',\n",
       "       '3,800', '1,050', '5,300', '4,200', '5,200', '48,900', '50,400',\n",
       "       '2,400', '42,000', '450,000', '50,008', '250', '27,500', '4,630',\n",
       "       '57,000', '180,000', '93,000', '64,000', '2,300', '108,000',\n",
       "       '184,740', '4,800', '1,900', '55,620', '46,500', '3,700', '36,000',\n",
       "       '11,700', '54,999', '44,500', '44,000', '30,700', '20,700',\n",
       "       '1,350', '140,000', '19,999', '3,400', '11,800', '4,300', '17,700',\n",
       "       '650', '24,998', '19,500', '54,000', '23,500', '16,300', '5,600',\n",
       "       '13,700', '3,900', '125,000', '115,000', '14,700', '83,700',\n",
       "       '92,000', '9,300', '4,700', '114,000', '135,000', '5,750',\n",
       "       '98,800', '250,000', '350,000', '5,900', '39,999', '51,000',\n",
       "       '61,800', '37,500', '88,000', '6,300', '77,500', '6,200', '6,800',\n",
       "       '83,000', '5,700', '58,000', '5,250', '7,300', '4,600', '8,900',\n",
       "       '25,500', '6,600', '201', '2,750', '11,954', '9,200', '1,990',\n",
       "       '19,900', '8,380', '7,600', '6,700'], dtype=object)"
      ]
     },
     "execution_count": 8,
     "metadata": {},
     "output_type": "execute_result"
    }
   ],
   "source": [
    "data['Price'].unique()"
   ]
  },
  {
   "cell_type": "code",
   "execution_count": 9,
   "metadata": {},
   "outputs": [],
   "source": [
    "def remove_comma(value):\n",
    "    return re.sub(',', '', value)\n",
    "\n",
    "data['Price'] = data['Price'].apply(remove_comma)"
   ]
  },
  {
   "cell_type": "code",
   "execution_count": 10,
   "metadata": {},
   "outputs": [
    {
     "data": {
      "text/plain": [
       "array(['165', '225', '280', '120', '13.935', '197', '78', '700', '140',\n",
       "       '170', '162', '187', '200', '233', '122', '115', '60', '160',\n",
       "       '25.827', '116', '17.466', '131', '17.652', '143', '220', '95',\n",
       "       '400', '211', '156', '149', '130', '100', '163', '155', '144',\n",
       "       '65', '270', '27.871', '82', '13.471', '300', '11.148', '150',\n",
       "       '106', '127', '350', '139', '580', '17.28', '90', '96', '180',\n",
       "       '152', '89', '99', '345', '193', '84', '320', '182', '175', '14.4',\n",
       "       '370', '55', '250', '133', '230', '104', '107', '70', '157', '145',\n",
       "       '185', '148', '194', '103', '188', '75', '112', '119', '135', '67',\n",
       "       '186', '18.581', '30', '190', '240', '92', '125', '146', '20',\n",
       "       '319', '132', '142', '208', '17.837', '110', '118', '310', '134',\n",
       "       '81', '80', '105', '256', '385', '50', '136', '154', '8.268',\n",
       "       '210', '235', '10', '305', '111', '195', '215', '172', '260',\n",
       "       '161.001', '11.613', '13.006', '167', '85', '123', '40', '450',\n",
       "       '600', '500', '360', '355', '87', '354', '64', '10,000', '199',\n",
       "       '94', '124', '147', '7.061', '74', '550', '128', '88', '380',\n",
       "       '178', '275', '8.175', '20.439', '14.864', '10.219', '224', '77',\n",
       "       '255', '15.794', '214', '121.982', '3,713.985', '205', '15.329',\n",
       "       '16.723', '217', '252', '200.02', '299.984', '129.971', '445',\n",
       "       '290', '56', '61', '68', '164', '86', '113', '191', '278', '277',\n",
       "       '234', '192', '98', '58', '43', '349.966', '276', '67.819', '161',\n",
       "       '8.919', '221', '109', '171', '204', '18.302', '209', '153', '228',\n",
       "       '18.116', '32.981', '174', '17.187', '19.51', '12.542', '500.004',\n",
       "       '650.043', '219.994', '19.974', '14.493', '17.744', '21.368',\n",
       "       '23.783', '188.036', '159.979', '420', '2,002', '26.942',\n",
       "       '146.973', '102', '16.072', '184.041', '256.041', '150.038', '207',\n",
       "       '450.022', '555', '13.75', '226.033', '17.93', '19.324', '15,000',\n",
       "       '12.077', '1.579', '23.226', '16.258', '20.903', '108', '13.378',\n",
       "       '335', '169', '330', '13.564', '415', '21.646', '206.988',\n",
       "       '10.034', '22.204', '17.373', '117', '268', '189', '129', '57',\n",
       "       '8.361', '22.761', '1,000', '202', '93', '22.018', '13.843', '245',\n",
       "       '62', '241', '168', '216', '298.033', '180.046', '41.806',\n",
       "       '164.996', '158', '265', '69.956', '378', '266', '12.17', '11.241',\n",
       "       '238', '292', '126', '239', '336.959', '176', '340', '208.01',\n",
       "       '138.983', '319.958', '13', '183', '213.027', '83', '185.992',\n",
       "       '233.001', '198', '151', '253', '138', '295', '800', '95.969',\n",
       "       '82.033', '297', '264.959', '7.432', '141', '166', '229', '63',\n",
       "       '254', '59', '15', '140.005', '45', '181', '322', '221.016',\n",
       "       '79.99', '213.956', '308.996', '237', '329.992', '251', '244.985',\n",
       "       '351', '178.002', '177', '66', '146.044', '235.974', '340.025',\n",
       "       '21.739', '99.964', '359.999', '244', '195.003', '95.04',\n",
       "       '155.984', '79', '201', '12.356', '17.559', '24.155', '154.033',\n",
       "       '205.037', '570', '545', '57.879', '21.554', '45.708', '279',\n",
       "       '9.29', '379.973', '9.941', '315', '189.987', '184.97', '112.97',\n",
       "       '74.973', '109.997', '260.036', '225.011', '175.029', '8,500',\n",
       "       '25', '213', '277.966', '242', '171.964', '530', '133.037',\n",
       "       '1.765', '1.115', '2.601', '1.301', '1.858', '145.022', '206',\n",
       "       '183.019', '173', '71', '243.963', '134.988', '269.976', '121',\n",
       "       '25,000.022', '120.031', '475.013', '187.014', '219', '192.96',\n",
       "       '69', '410', '1.486', '90.023', '196', '137', '475', '91', '520',\n",
       "       '314', '78.039', '129.042', '192.031', '420.015', '101', '1,200',\n",
       "       '114', '400.04', '226', '136.01', '316.985', '15.05', '166.018',\n",
       "       '163.974', '247', '72', '17.001', '210.983', '223.989', '1.672',\n",
       "       '1.022', '2.044', '158.028', '1.394', '238.018', '335.008', '46',\n",
       "       '239.969', '280.01', '250.002', '40.041', '777', '223', '560',\n",
       "       '286.977', '167.969', '87.979', '287', '54', '217.022', '193.982',\n",
       "       '184', '435', '76', '170.013', '525', '73', '11.706', '274',\n",
       "       '274.993', '2,000', '390', '4,000', '35', '209.961', '325',\n",
       "       '113.992', '163.045', '49', '25,000', '430', '285', '346', '327',\n",
       "       '230.028', '222', '780', '42', '197.976', '218', '202.993', '259',\n",
       "       '317', '377', '141.956', '18.023', '258', '510', '162.023', '306',\n",
       "       '125.977', '16,999.956', '375', '235.045', '347', '284', '9,500',\n",
       "       '236', '650', '272', '115.014', '255.019', '365', '52', '16',\n",
       "       '231', '203', '140,000', '18,000', '60.015', '35,000', '130.993',\n",
       "       '37', '32', '283', '33', '22,000', '22.297', '26.013', '470',\n",
       "       '257', '25.734', '16.165', '232', '159', '12', '15.143', '273',\n",
       "       '212', '27', '28', '352', '4,500', '324', '212.005', '53', '243',\n",
       "       '29', '354.983', '248', '137.032', '234.023', '18.395', '14',\n",
       "       '13.192', '323', '356', '460', '18.209', '1,455', '26,000', '264',\n",
       "       '348'], dtype=object)"
      ]
     },
     "execution_count": 10,
     "metadata": {},
     "output_type": "execute_result"
    }
   ],
   "source": [
    "data['Area (m²)'].unique()"
   ]
  },
  {
   "cell_type": "code",
   "execution_count": 11,
   "metadata": {},
   "outputs": [],
   "source": [
    "data['Area (m²)'] = data['Area (m²)'].apply(remove_comma)"
   ]
  },
  {
   "cell_type": "code",
   "execution_count": 12,
   "metadata": {},
   "outputs": [
    {
     "data": {
      "text/plain": [
       "array(['3', '4', '2', '1', '5', '10', '6', '7', '10+', '8', '9'],\n",
       "      dtype=object)"
      ]
     },
     "execution_count": 12,
     "metadata": {},
     "output_type": "execute_result"
    }
   ],
   "source": [
    "data['Bedrooms'].unique()"
   ]
  },
  {
   "cell_type": "code",
   "execution_count": 13,
   "metadata": {},
   "outputs": [],
   "source": [
    "idx = data.query('Bedrooms == \"10+\"').index\n",
    "data = data.drop(index=idx)"
   ]
  },
  {
   "cell_type": "code",
   "execution_count": 14,
   "metadata": {},
   "outputs": [
    {
     "data": {
      "text/plain": [
       "array([3, 2, 1, 5, 4, 8, 6, 7], dtype=int64)"
      ]
     },
     "execution_count": 14,
     "metadata": {},
     "output_type": "execute_result"
    }
   ],
   "source": [
    "data['Bathrooms'].unique()"
   ]
  },
  {
   "cell_type": "code",
   "execution_count": 15,
   "metadata": {},
   "outputs": [
    {
     "data": {
      "text/plain": [
       "array(['Ground', nan, '1', '2', '5', '3', '4', '6', '8', '7', '9', '10+',\n",
       "       '10', 'Highest'], dtype=object)"
      ]
     },
     "execution_count": 15,
     "metadata": {},
     "output_type": "execute_result"
    }
   ],
   "source": [
    "data['Level'].unique()"
   ]
  },
  {
   "cell_type": "code",
   "execution_count": 16,
   "metadata": {},
   "outputs": [],
   "source": [
    "# Encode `Level` Values\n",
    "def encode_level(level):\n",
    "    if level == 'Ground':\n",
    "        level = 0\n",
    "    if level == '10+':\n",
    "        level = 11\n",
    "    if level == 'Highest':\n",
    "        level = 12\n",
    "    return level\n",
    "\n",
    "data['Level'] = data['Level'].apply(encode_level)"
   ]
  },
  {
   "cell_type": "code",
   "execution_count": 17,
   "metadata": {},
   "outputs": [
    {
     "data": {
      "text/plain": [
       "array(['Yes', nan, 'No'], dtype=object)"
      ]
     },
     "execution_count": 17,
     "metadata": {},
     "output_type": "execute_result"
    }
   ],
   "source": [
    "data['Furnished'].unique()"
   ]
  },
  {
   "cell_type": "code",
   "execution_count": 18,
   "metadata": {},
   "outputs": [],
   "source": [
    "def encode_bool(value):\n",
    "    if value == 'Yes':\n",
    "        value = 1\n",
    "    if value == 'No':\n",
    "        value = 0\n",
    "    return value\n",
    "\n",
    "data['Furnished'] = data['Furnished'].apply(encode_bool)"
   ]
  },
  {
   "cell_type": "code",
   "execution_count": 19,
   "metadata": {},
   "outputs": [
    {
     "data": {
      "text/plain": [
       "array(['Madinaty', 'Mokattam', 'Cairo', 'New Cairo', 'Nasr City',\n",
       "       'Katameya', nan, 'Maadi', 'Zahraa Al Maadi', 'New Capital City',\n",
       "       'Heliopolis', 'Sheraton', 'Shorouk City', 'Mostakbal City',\n",
       "       'New Heliopolis', 'Obour City', 'New Cairo - El Tagamoa',\n",
       "       'Rehab City', 'Giza', '6th of October', 'Sheikh Zayed',\n",
       "       'Hadayek October', 'Hadayek 6th of October'], dtype=object)"
      ]
     },
     "execution_count": 19,
     "metadata": {},
     "output_type": "execute_result"
    }
   ],
   "source": [
    "data['City'].unique()"
   ]
  },
  {
   "cell_type": "markdown",
   "metadata": {},
   "source": [
    "### Fixing the errors in `Area` and `City` columns"
   ]
  },
  {
   "cell_type": "code",
   "execution_count": 20,
   "metadata": {},
   "outputs": [],
   "source": [
    "cairo_areas = ['New Cairo - El Tagamoa', 'Madinaty', 'Nasr City', 'Mokattam', 'Katameya', 'Maadi', 'Rehab City', 'Zahraa Al Maadi', 'Shorouk City', 'New Capital City', 'Heliopolis', 'New Cairo', 'Sheraton', 'Mostakbal City', 'New Heliopolis', 'Obour City']\n",
    "\n",
    "for city in cairo_areas:\n",
    "    # copy city value in area\n",
    "    indexes = data.query('City == @city').index\n",
    "    data.loc[indexes, 'Area'] = data.query('City == @city')['Area']\n",
    "    # change city\n",
    "    data.loc[indexes, 'City'] = 'Cairo'"
   ]
  },
  {
   "cell_type": "code",
   "execution_count": 21,
   "metadata": {},
   "outputs": [],
   "source": [
    "giza_areas = ['6th of October', 'Sheikh Zayed', 'Hadayek October', 'Hadayek 6th of October']\n",
    "\n",
    "for city in giza_areas:\n",
    "    # copy city value in area\n",
    "    indexes = data.query('City == @city').index\n",
    "    data.loc[indexes, 'Area'] = data.query('City == @city')['Area']\n",
    "    # change city\n",
    "    data.loc[indexes, 'City'] = 'Giza'"
   ]
  },
  {
   "cell_type": "code",
   "execution_count": 22,
   "metadata": {},
   "outputs": [
    {
     "data": {
      "text/plain": [
       "array(['Cairo', nan, 'Giza'], dtype=object)"
      ]
     },
     "execution_count": 22,
     "metadata": {},
     "output_type": "execute_result"
    }
   ],
   "source": [
    "data['City'].unique()"
   ]
  },
  {
   "cell_type": "markdown",
   "metadata": {},
   "source": [
    "### Encoding the amenities columns"
   ]
  },
  {
   "cell_type": "code",
   "execution_count": 23,
   "metadata": {},
   "outputs": [
    {
     "data": {
      "text/plain": [
       "Index(['Electricity Meter', 'Built in Kitchen Appliances', 'Water Meter',\n",
       "       'Elevator', 'Balcony', 'Natural Gas', 'Landline', 'Security',\n",
       "       'Central A/C & heating', 'Covered Parking', 'Pets Allowed',\n",
       "       'Private Garden', 'Maids Room', 'Pool'],\n",
       "      dtype='object')"
      ]
     },
     "execution_count": 23,
     "metadata": {},
     "output_type": "execute_result"
    }
   ],
   "source": [
    "data.columns[14:-1]"
   ]
  },
  {
   "cell_type": "code",
   "execution_count": 24,
   "metadata": {},
   "outputs": [],
   "source": [
    "for col in data.columns[14:-1]:\n",
    "    data[col] = data[col].apply(encode_bool)"
   ]
  },
  {
   "cell_type": "code",
   "execution_count": 25,
   "metadata": {},
   "outputs": [
    {
     "data": {
      "text/html": [
       "<div>\n",
       "<style scoped>\n",
       "    .dataframe tbody tr th:only-of-type {\n",
       "        vertical-align: middle;\n",
       "    }\n",
       "\n",
       "    .dataframe tbody tr th {\n",
       "        vertical-align: top;\n",
       "    }\n",
       "\n",
       "    .dataframe thead th {\n",
       "        text-align: right;\n",
       "    }\n",
       "</style>\n",
       "<table border=\"1\" class=\"dataframe\">\n",
       "  <thead>\n",
       "    <tr style=\"text-align: right;\">\n",
       "      <th></th>\n",
       "      <th>Description</th>\n",
       "      <th>Type</th>\n",
       "      <th>Price</th>\n",
       "      <th>Price Type</th>\n",
       "      <th>Video</th>\n",
       "      <th>Down Payment</th>\n",
       "      <th>Area (m²)</th>\n",
       "      <th>Bedrooms</th>\n",
       "      <th>Bathrooms</th>\n",
       "      <th>Level</th>\n",
       "      <th>Furnished</th>\n",
       "      <th>Virtual Tour</th>\n",
       "      <th>Area</th>\n",
       "      <th>City</th>\n",
       "      <th>Electricity Meter</th>\n",
       "      <th>Built in Kitchen Appliances</th>\n",
       "      <th>Water Meter</th>\n",
       "      <th>Elevator</th>\n",
       "      <th>Balcony</th>\n",
       "      <th>Natural Gas</th>\n",
       "      <th>Landline</th>\n",
       "      <th>Security</th>\n",
       "      <th>Central A/C &amp; heating</th>\n",
       "      <th>Covered Parking</th>\n",
       "      <th>Pets Allowed</th>\n",
       "      <th>Private Garden</th>\n",
       "      <th>Maids Room</th>\n",
       "      <th>Pool</th>\n",
       "      <th>Compound</th>\n",
       "    </tr>\n",
       "  </thead>\n",
       "  <tbody>\n",
       "    <tr>\n",
       "      <th>0</th>\n",
       "      <td>شقة فندقية للايجار المفروش في مدينتي في B11 ار...</td>\n",
       "      <td>Apartment</td>\n",
       "      <td>35000</td>\n",
       "      <td>Price</td>\n",
       "      <td>Not Available</td>\n",
       "      <td>35,000</td>\n",
       "      <td>165</td>\n",
       "      <td>3</td>\n",
       "      <td>3</td>\n",
       "      <td>0</td>\n",
       "      <td>1.0</td>\n",
       "      <td>Not Available</td>\n",
       "      <td>Madinaty</td>\n",
       "      <td>Cairo</td>\n",
       "      <td>1.0</td>\n",
       "      <td>1.0</td>\n",
       "      <td>1.0</td>\n",
       "      <td>0.0</td>\n",
       "      <td>1.0</td>\n",
       "      <td>1.0</td>\n",
       "      <td>0.0</td>\n",
       "      <td>1.0</td>\n",
       "      <td>1.0</td>\n",
       "      <td>0.0</td>\n",
       "      <td>0.0</td>\n",
       "      <td>1.0</td>\n",
       "      <td>0.0</td>\n",
       "      <td>0.0</td>\n",
       "      <td>NaN</td>\n",
       "    </tr>\n",
       "    <tr>\n",
       "      <th>1</th>\n",
       "      <td>For Rent Apartment In Uptown Cairo - Sierras\\n...</td>\n",
       "      <td>Apartment</td>\n",
       "      <td>77000</td>\n",
       "      <td>Price</td>\n",
       "      <td>Not Available</td>\n",
       "      <td>NaN</td>\n",
       "      <td>225</td>\n",
       "      <td>3</td>\n",
       "      <td>3</td>\n",
       "      <td>NaN</td>\n",
       "      <td>1.0</td>\n",
       "      <td>Not Available</td>\n",
       "      <td>Uptown Cairo</td>\n",
       "      <td>Cairo</td>\n",
       "      <td>0.0</td>\n",
       "      <td>0.0</td>\n",
       "      <td>0.0</td>\n",
       "      <td>0.0</td>\n",
       "      <td>1.0</td>\n",
       "      <td>0.0</td>\n",
       "      <td>0.0</td>\n",
       "      <td>1.0</td>\n",
       "      <td>0.0</td>\n",
       "      <td>1.0</td>\n",
       "      <td>1.0</td>\n",
       "      <td>0.0</td>\n",
       "      <td>1.0</td>\n",
       "      <td>0.0</td>\n",
       "      <td>NaN</td>\n",
       "    </tr>\n",
       "    <tr>\n",
       "      <th>2</th>\n",
       "      <td>خطوات من عباس العقاد\\nبشارع رئيسي مميز جدا \\nع...</td>\n",
       "      <td>Apartment</td>\n",
       "      <td>30000</td>\n",
       "      <td>Price</td>\n",
       "      <td>Not Available</td>\n",
       "      <td>30,000</td>\n",
       "      <td>280</td>\n",
       "      <td>4</td>\n",
       "      <td>3</td>\n",
       "      <td>1</td>\n",
       "      <td>NaN</td>\n",
       "      <td>Not Available</td>\n",
       "      <td>Nasr City</td>\n",
       "      <td>Cairo</td>\n",
       "      <td>NaN</td>\n",
       "      <td>NaN</td>\n",
       "      <td>NaN</td>\n",
       "      <td>NaN</td>\n",
       "      <td>NaN</td>\n",
       "      <td>NaN</td>\n",
       "      <td>NaN</td>\n",
       "      <td>NaN</td>\n",
       "      <td>NaN</td>\n",
       "      <td>NaN</td>\n",
       "      <td>NaN</td>\n",
       "      <td>NaN</td>\n",
       "      <td>NaN</td>\n",
       "      <td>NaN</td>\n",
       "      <td>NaN</td>\n",
       "    </tr>\n",
       "    <tr>\n",
       "      <th>3</th>\n",
       "      <td>شقه مفروشه سوبر لوكس للايجار اليومي في موقع مم...</td>\n",
       "      <td>Apartment</td>\n",
       "      <td>1500</td>\n",
       "      <td>Price</td>\n",
       "      <td>Not Available</td>\n",
       "      <td>NaN</td>\n",
       "      <td>120</td>\n",
       "      <td>3</td>\n",
       "      <td>2</td>\n",
       "      <td>2</td>\n",
       "      <td>1.0</td>\n",
       "      <td>Not Available</td>\n",
       "      <td>Nasr City</td>\n",
       "      <td>Cairo</td>\n",
       "      <td>1.0</td>\n",
       "      <td>1.0</td>\n",
       "      <td>1.0</td>\n",
       "      <td>0.0</td>\n",
       "      <td>1.0</td>\n",
       "      <td>1.0</td>\n",
       "      <td>0.0</td>\n",
       "      <td>0.0</td>\n",
       "      <td>1.0</td>\n",
       "      <td>0.0</td>\n",
       "      <td>0.0</td>\n",
       "      <td>0.0</td>\n",
       "      <td>0.0</td>\n",
       "      <td>0.0</td>\n",
       "      <td>NaN</td>\n",
       "    </tr>\n",
       "    <tr>\n",
       "      <th>4</th>\n",
       "      <td>J-V\\n\\nKatameya Heights\\nNew Cairo\\nDeveloper ...</td>\n",
       "      <td>Apartment</td>\n",
       "      <td>160000</td>\n",
       "      <td>Price</td>\n",
       "      <td>Not Available</td>\n",
       "      <td>NaN</td>\n",
       "      <td>13.935</td>\n",
       "      <td>2</td>\n",
       "      <td>3</td>\n",
       "      <td>1</td>\n",
       "      <td>1.0</td>\n",
       "      <td>Not Available</td>\n",
       "      <td>Katameya Heights</td>\n",
       "      <td>Cairo</td>\n",
       "      <td>1.0</td>\n",
       "      <td>0.0</td>\n",
       "      <td>1.0</td>\n",
       "      <td>0.0</td>\n",
       "      <td>1.0</td>\n",
       "      <td>0.0</td>\n",
       "      <td>0.0</td>\n",
       "      <td>1.0</td>\n",
       "      <td>1.0</td>\n",
       "      <td>0.0</td>\n",
       "      <td>1.0</td>\n",
       "      <td>0.0</td>\n",
       "      <td>0.0</td>\n",
       "      <td>0.0</td>\n",
       "      <td>NaN</td>\n",
       "    </tr>\n",
       "  </tbody>\n",
       "</table>\n",
       "</div>"
      ],
      "text/plain": [
       "                                         Description       Type   Price   \n",
       "0  شقة فندقية للايجار المفروش في مدينتي في B11 ار...  Apartment   35000  \\\n",
       "1  For Rent Apartment In Uptown Cairo - Sierras\\n...  Apartment   77000   \n",
       "2  خطوات من عباس العقاد\\nبشارع رئيسي مميز جدا \\nع...  Apartment   30000   \n",
       "3  شقه مفروشه سوبر لوكس للايجار اليومي في موقع مم...  Apartment    1500   \n",
       "4  J-V\\n\\nKatameya Heights\\nNew Cairo\\nDeveloper ...  Apartment  160000   \n",
       "\n",
       "  Price Type          Video Down Payment Area (m²) Bedrooms  Bathrooms Level   \n",
       "0      Price  Not Available       35,000       165        3          3     0  \\\n",
       "1      Price  Not Available          NaN       225        3          3   NaN   \n",
       "2      Price  Not Available       30,000       280        4          3     1   \n",
       "3      Price  Not Available          NaN       120        3          2     2   \n",
       "4      Price  Not Available          NaN    13.935        2          3     1   \n",
       "\n",
       "   Furnished   Virtual Tour              Area   City  Electricity Meter   \n",
       "0        1.0  Not Available          Madinaty  Cairo                1.0  \\\n",
       "1        1.0  Not Available      Uptown Cairo  Cairo                0.0   \n",
       "2        NaN  Not Available         Nasr City  Cairo                NaN   \n",
       "3        1.0  Not Available         Nasr City  Cairo                1.0   \n",
       "4        1.0  Not Available  Katameya Heights  Cairo                1.0   \n",
       "\n",
       "   Built in Kitchen Appliances  Water Meter  Elevator  Balcony  Natural Gas   \n",
       "0                          1.0          1.0       0.0      1.0          1.0  \\\n",
       "1                          0.0          0.0       0.0      1.0          0.0   \n",
       "2                          NaN          NaN       NaN      NaN          NaN   \n",
       "3                          1.0          1.0       0.0      1.0          1.0   \n",
       "4                          0.0          1.0       0.0      1.0          0.0   \n",
       "\n",
       "   Landline  Security  Central A/C & heating  Covered Parking  Pets Allowed   \n",
       "0       0.0       1.0                    1.0              0.0           0.0  \\\n",
       "1       0.0       1.0                    0.0              1.0           1.0   \n",
       "2       NaN       NaN                    NaN              NaN           NaN   \n",
       "3       0.0       0.0                    1.0              0.0           0.0   \n",
       "4       0.0       1.0                    1.0              0.0           1.0   \n",
       "\n",
       "   Private Garden  Maids Room  Pool Compound  \n",
       "0             1.0         0.0   0.0      NaN  \n",
       "1             0.0         1.0   0.0      NaN  \n",
       "2             NaN         NaN   NaN      NaN  \n",
       "3             0.0         0.0   0.0      NaN  \n",
       "4             0.0         0.0   0.0      NaN  "
      ]
     },
     "execution_count": 25,
     "metadata": {},
     "output_type": "execute_result"
    }
   ],
   "source": [
    "data.head()"
   ]
  },
  {
   "cell_type": "code",
   "execution_count": 26,
   "metadata": {},
   "outputs": [
    {
     "data": {
      "text/plain": [
       "Index(['Description', 'Type', 'Price', 'Price Type', 'Video', 'Down Payment',\n",
       "       'Area (m²)', 'Bedrooms', 'Bathrooms', 'Level', 'Furnished',\n",
       "       'Virtual Tour', 'Area', 'City', 'Electricity Meter',\n",
       "       'Built in Kitchen Appliances', 'Water Meter', 'Elevator', 'Balcony',\n",
       "       'Natural Gas', 'Landline', 'Security', 'Central A/C & heating',\n",
       "       'Covered Parking', 'Pets Allowed', 'Private Garden', 'Maids Room',\n",
       "       'Pool', 'Compound'],\n",
       "      dtype='object')"
      ]
     },
     "execution_count": 26,
     "metadata": {},
     "output_type": "execute_result"
    }
   ],
   "source": [
    "data.columns"
   ]
  },
  {
   "cell_type": "markdown",
   "metadata": {},
   "source": [
    "### Drop unnecessary columns"
   ]
  },
  {
   "cell_type": "code",
   "execution_count": 27,
   "metadata": {},
   "outputs": [],
   "source": [
    "data = data.drop(columns=['Price Type', 'Video', 'Down Payment', 'Virtual Tour','Compound'])"
   ]
  },
  {
   "cell_type": "markdown",
   "metadata": {},
   "source": [
    "### Rename columns"
   ]
  },
  {
   "cell_type": "code",
   "execution_count": 28,
   "metadata": {},
   "outputs": [],
   "source": [
    "col_names = {\n",
    "    'Type': 'HouseType',\n",
    "    'Area (m²)': 'Size',\n",
    "    'Electricity Meter': 'ElectricityMeter',\n",
    "    'Built in Kitchen Appliances': 'BuiltinKitchenAppliances',\n",
    "    'Water Meter': 'WaterMeter',\n",
    "    'Elevator': 'Elevator',\n",
    "    'Balcony': 'Balcony',\n",
    "    'Natural Gas': 'NaturalGas',\n",
    "    'Landline': 'Landline',\n",
    "    'Security': 'Security',\n",
    "    'Central A/C & heating': 'CentralAC',\n",
    "    'Covered Parking': 'CoveredParking',\n",
    "    'Pets Allowed': 'PetsAllowed',\n",
    "    'Private Garden': 'PrivateGarden',\n",
    "    'Maids Room': 'MaidsRoom',\n",
    "}\n",
    "data = data.rename(columns=col_names)"
   ]
  },
  {
   "cell_type": "code",
   "execution_count": 29,
   "metadata": {},
   "outputs": [
    {
     "data": {
      "text/html": [
       "<div>\n",
       "<style scoped>\n",
       "    .dataframe tbody tr th:only-of-type {\n",
       "        vertical-align: middle;\n",
       "    }\n",
       "\n",
       "    .dataframe tbody tr th {\n",
       "        vertical-align: top;\n",
       "    }\n",
       "\n",
       "    .dataframe thead th {\n",
       "        text-align: right;\n",
       "    }\n",
       "</style>\n",
       "<table border=\"1\" class=\"dataframe\">\n",
       "  <thead>\n",
       "    <tr style=\"text-align: right;\">\n",
       "      <th></th>\n",
       "      <th>Description</th>\n",
       "      <th>HouseType</th>\n",
       "      <th>Price</th>\n",
       "      <th>Size</th>\n",
       "      <th>Bedrooms</th>\n",
       "      <th>Bathrooms</th>\n",
       "      <th>Level</th>\n",
       "      <th>Furnished</th>\n",
       "      <th>Area</th>\n",
       "      <th>City</th>\n",
       "      <th>ElectricityMeter</th>\n",
       "      <th>BuiltinKitchenAppliances</th>\n",
       "      <th>WaterMeter</th>\n",
       "      <th>Elevator</th>\n",
       "      <th>Balcony</th>\n",
       "      <th>NaturalGas</th>\n",
       "      <th>Landline</th>\n",
       "      <th>Security</th>\n",
       "      <th>CentralAC</th>\n",
       "      <th>CoveredParking</th>\n",
       "      <th>PetsAllowed</th>\n",
       "      <th>PrivateGarden</th>\n",
       "      <th>MaidsRoom</th>\n",
       "      <th>Pool</th>\n",
       "    </tr>\n",
       "  </thead>\n",
       "  <tbody>\n",
       "    <tr>\n",
       "      <th>0</th>\n",
       "      <td>شقة فندقية للايجار المفروش في مدينتي في B11 ار...</td>\n",
       "      <td>Apartment</td>\n",
       "      <td>35000</td>\n",
       "      <td>165</td>\n",
       "      <td>3</td>\n",
       "      <td>3</td>\n",
       "      <td>0</td>\n",
       "      <td>1.0</td>\n",
       "      <td>Madinaty</td>\n",
       "      <td>Cairo</td>\n",
       "      <td>1.0</td>\n",
       "      <td>1.0</td>\n",
       "      <td>1.0</td>\n",
       "      <td>0.0</td>\n",
       "      <td>1.0</td>\n",
       "      <td>1.0</td>\n",
       "      <td>0.0</td>\n",
       "      <td>1.0</td>\n",
       "      <td>1.0</td>\n",
       "      <td>0.0</td>\n",
       "      <td>0.0</td>\n",
       "      <td>1.0</td>\n",
       "      <td>0.0</td>\n",
       "      <td>0.0</td>\n",
       "    </tr>\n",
       "    <tr>\n",
       "      <th>1</th>\n",
       "      <td>For Rent Apartment In Uptown Cairo - Sierras\\n...</td>\n",
       "      <td>Apartment</td>\n",
       "      <td>77000</td>\n",
       "      <td>225</td>\n",
       "      <td>3</td>\n",
       "      <td>3</td>\n",
       "      <td>NaN</td>\n",
       "      <td>1.0</td>\n",
       "      <td>Uptown Cairo</td>\n",
       "      <td>Cairo</td>\n",
       "      <td>0.0</td>\n",
       "      <td>0.0</td>\n",
       "      <td>0.0</td>\n",
       "      <td>0.0</td>\n",
       "      <td>1.0</td>\n",
       "      <td>0.0</td>\n",
       "      <td>0.0</td>\n",
       "      <td>1.0</td>\n",
       "      <td>0.0</td>\n",
       "      <td>1.0</td>\n",
       "      <td>1.0</td>\n",
       "      <td>0.0</td>\n",
       "      <td>1.0</td>\n",
       "      <td>0.0</td>\n",
       "    </tr>\n",
       "    <tr>\n",
       "      <th>2</th>\n",
       "      <td>خطوات من عباس العقاد\\nبشارع رئيسي مميز جدا \\nع...</td>\n",
       "      <td>Apartment</td>\n",
       "      <td>30000</td>\n",
       "      <td>280</td>\n",
       "      <td>4</td>\n",
       "      <td>3</td>\n",
       "      <td>1</td>\n",
       "      <td>NaN</td>\n",
       "      <td>Nasr City</td>\n",
       "      <td>Cairo</td>\n",
       "      <td>NaN</td>\n",
       "      <td>NaN</td>\n",
       "      <td>NaN</td>\n",
       "      <td>NaN</td>\n",
       "      <td>NaN</td>\n",
       "      <td>NaN</td>\n",
       "      <td>NaN</td>\n",
       "      <td>NaN</td>\n",
       "      <td>NaN</td>\n",
       "      <td>NaN</td>\n",
       "      <td>NaN</td>\n",
       "      <td>NaN</td>\n",
       "      <td>NaN</td>\n",
       "      <td>NaN</td>\n",
       "    </tr>\n",
       "    <tr>\n",
       "      <th>3</th>\n",
       "      <td>شقه مفروشه سوبر لوكس للايجار اليومي في موقع مم...</td>\n",
       "      <td>Apartment</td>\n",
       "      <td>1500</td>\n",
       "      <td>120</td>\n",
       "      <td>3</td>\n",
       "      <td>2</td>\n",
       "      <td>2</td>\n",
       "      <td>1.0</td>\n",
       "      <td>Nasr City</td>\n",
       "      <td>Cairo</td>\n",
       "      <td>1.0</td>\n",
       "      <td>1.0</td>\n",
       "      <td>1.0</td>\n",
       "      <td>0.0</td>\n",
       "      <td>1.0</td>\n",
       "      <td>1.0</td>\n",
       "      <td>0.0</td>\n",
       "      <td>0.0</td>\n",
       "      <td>1.0</td>\n",
       "      <td>0.0</td>\n",
       "      <td>0.0</td>\n",
       "      <td>0.0</td>\n",
       "      <td>0.0</td>\n",
       "      <td>0.0</td>\n",
       "    </tr>\n",
       "    <tr>\n",
       "      <th>4</th>\n",
       "      <td>J-V\\n\\nKatameya Heights\\nNew Cairo\\nDeveloper ...</td>\n",
       "      <td>Apartment</td>\n",
       "      <td>160000</td>\n",
       "      <td>13.935</td>\n",
       "      <td>2</td>\n",
       "      <td>3</td>\n",
       "      <td>1</td>\n",
       "      <td>1.0</td>\n",
       "      <td>Katameya Heights</td>\n",
       "      <td>Cairo</td>\n",
       "      <td>1.0</td>\n",
       "      <td>0.0</td>\n",
       "      <td>1.0</td>\n",
       "      <td>0.0</td>\n",
       "      <td>1.0</td>\n",
       "      <td>0.0</td>\n",
       "      <td>0.0</td>\n",
       "      <td>1.0</td>\n",
       "      <td>1.0</td>\n",
       "      <td>0.0</td>\n",
       "      <td>1.0</td>\n",
       "      <td>0.0</td>\n",
       "      <td>0.0</td>\n",
       "      <td>0.0</td>\n",
       "    </tr>\n",
       "  </tbody>\n",
       "</table>\n",
       "</div>"
      ],
      "text/plain": [
       "                                         Description  HouseType   Price   \n",
       "0  شقة فندقية للايجار المفروش في مدينتي في B11 ار...  Apartment   35000  \\\n",
       "1  For Rent Apartment In Uptown Cairo - Sierras\\n...  Apartment   77000   \n",
       "2  خطوات من عباس العقاد\\nبشارع رئيسي مميز جدا \\nع...  Apartment   30000   \n",
       "3  شقه مفروشه سوبر لوكس للايجار اليومي في موقع مم...  Apartment    1500   \n",
       "4  J-V\\n\\nKatameya Heights\\nNew Cairo\\nDeveloper ...  Apartment  160000   \n",
       "\n",
       "     Size Bedrooms  Bathrooms Level  Furnished              Area   City   \n",
       "0     165        3          3     0        1.0          Madinaty  Cairo  \\\n",
       "1     225        3          3   NaN        1.0      Uptown Cairo  Cairo   \n",
       "2     280        4          3     1        NaN         Nasr City  Cairo   \n",
       "3     120        3          2     2        1.0         Nasr City  Cairo   \n",
       "4  13.935        2          3     1        1.0  Katameya Heights  Cairo   \n",
       "\n",
       "   ElectricityMeter  BuiltinKitchenAppliances  WaterMeter  Elevator  Balcony   \n",
       "0               1.0                       1.0         1.0       0.0      1.0  \\\n",
       "1               0.0                       0.0         0.0       0.0      1.0   \n",
       "2               NaN                       NaN         NaN       NaN      NaN   \n",
       "3               1.0                       1.0         1.0       0.0      1.0   \n",
       "4               1.0                       0.0         1.0       0.0      1.0   \n",
       "\n",
       "   NaturalGas  Landline  Security  CentralAC  CoveredParking  PetsAllowed   \n",
       "0         1.0       0.0       1.0        1.0             0.0          0.0  \\\n",
       "1         0.0       0.0       1.0        0.0             1.0          1.0   \n",
       "2         NaN       NaN       NaN        NaN             NaN          NaN   \n",
       "3         1.0       0.0       0.0        1.0             0.0          0.0   \n",
       "4         0.0       0.0       1.0        1.0             0.0          1.0   \n",
       "\n",
       "   PrivateGarden  MaidsRoom  Pool  \n",
       "0            1.0        0.0   0.0  \n",
       "1            0.0        1.0   0.0  \n",
       "2            NaN        NaN   NaN  \n",
       "3            0.0        0.0   0.0  \n",
       "4            0.0        0.0   0.0  "
      ]
     },
     "execution_count": 29,
     "metadata": {},
     "output_type": "execute_result"
    }
   ],
   "source": [
    "data.head()"
   ]
  },
  {
   "cell_type": "code",
   "execution_count": 30,
   "metadata": {},
   "outputs": [
    {
     "data": {
      "text/plain": [
       "(12057, 24)"
      ]
     },
     "execution_count": 30,
     "metadata": {},
     "output_type": "execute_result"
    }
   ],
   "source": [
    "data.shape"
   ]
  },
  {
   "cell_type": "markdown",
   "metadata": {},
   "source": [
    "## Missing Values\n",
    "- First remove the `Description` column from the dataset.\n",
    "- Encode all the categorical columns.\n",
    "- Use sklearn `IterativeImputer` to fill the Null values.\n",
    "- Return the categorical columns into it's original values."
   ]
  },
  {
   "cell_type": "code",
   "execution_count": 31,
   "metadata": {},
   "outputs": [
    {
     "data": {
      "text/plain": [
       "Description                    0\n",
       "HouseType                      0\n",
       "Price                          0\n",
       "Size                           0\n",
       "Bedrooms                       0\n",
       "Bathrooms                      0\n",
       "Level                        567\n",
       "Furnished                   1271\n",
       "Area                          40\n",
       "City                          40\n",
       "ElectricityMeter            2810\n",
       "BuiltinKitchenAppliances    2810\n",
       "WaterMeter                  2810\n",
       "Elevator                    2810\n",
       "Balcony                     2810\n",
       "NaturalGas                  2810\n",
       "Landline                    2810\n",
       "Security                    2810\n",
       "CentralAC                   2810\n",
       "CoveredParking              2810\n",
       "PetsAllowed                 2810\n",
       "PrivateGarden               2810\n",
       "MaidsRoom                   2810\n",
       "Pool                        2810\n",
       "dtype: int64"
      ]
     },
     "execution_count": 31,
     "metadata": {},
     "output_type": "execute_result"
    }
   ],
   "source": [
    "data.isna().sum()"
   ]
  },
  {
   "cell_type": "code",
   "execution_count": 32,
   "metadata": {},
   "outputs": [],
   "source": [
    "# make copy of the data and drop the `Description` column\n",
    "data_copy = data.copy()\n",
    "data_copy = data_copy.drop(columns=['Description'])"
   ]
  },
  {
   "cell_type": "code",
   "execution_count": 33,
   "metadata": {},
   "outputs": [],
   "source": [
    "# drop the null values from `Area` and `City` columns\n",
    "idx = data_copy[data_copy['Area'].isna()].index\n",
    "data_copy = data_copy.drop(index=idx)"
   ]
  },
  {
   "cell_type": "code",
   "execution_count": 34,
   "metadata": {},
   "outputs": [],
   "source": [
    "# Encode Categorical Columns\n",
    "houseType_list = data_copy.groupby('HouseType')['Price'] \\\n",
    "    .agg('median') \\\n",
    "    .sort_values(ascending=True) \\\n",
    "    .index.tolist()\n",
    "\n",
    "area_list = data_copy.groupby('Area')['Price'] \\\n",
    "    .agg('median') \\\n",
    "    .sort_values(ascending=True) \\\n",
    "    .index.tolist()\n",
    "\n",
    "city_list = data_copy.groupby('City')['Price'] \\\n",
    "    .agg('median') \\\n",
    "    .sort_values(ascending=True) \\\n",
    "    .index.tolist()"
   ]
  },
  {
   "cell_type": "code",
   "execution_count": 35,
   "metadata": {},
   "outputs": [],
   "source": [
    "# Reset index\n",
    "data_copy = data_copy.reset_index(drop='index')"
   ]
  },
  {
   "cell_type": "code",
   "execution_count": 36,
   "metadata": {},
   "outputs": [],
   "source": [
    "for i, item in enumerate(data_copy['HouseType']):\n",
    "    data_copy.loc[i,'HouseType'] = float(houseType_list.index(item))\n",
    "\n",
    "for i, item in enumerate(data_copy['Area']):\n",
    "    data_copy.loc[i,'Area'] = float(area_list.index(item))\n",
    "\n",
    "for i, item in enumerate(data_copy['City']):\n",
    "    data_copy.loc[i,'City'] = float(city_list.index(item))"
   ]
  },
  {
   "cell_type": "code",
   "execution_count": 37,
   "metadata": {},
   "outputs": [],
   "source": [
    "col_list = data_copy.columns.tolist()"
   ]
  },
  {
   "cell_type": "code",
   "execution_count": 38,
   "metadata": {},
   "outputs": [],
   "source": [
    "# Impute the missing values\n",
    "from sklearn.experimental import enable_iterative_imputer\n",
    "from sklearn.impute import IterativeImputer\n",
    "\n",
    "impute_it = IterativeImputer()\n",
    "data_copy = impute_it.fit_transform(data_copy)"
   ]
  },
  {
   "cell_type": "code",
   "execution_count": 39,
   "metadata": {},
   "outputs": [],
   "source": [
    "data_copy = pd.DataFrame(data_copy, columns=col_list)\n",
    "\n",
    "# Replace the values > 0 with 0\n",
    "data_copy = data_copy.applymap(lambda x: x if x > 0 else 0)\n",
    "\n",
    "# Round numbers from float to int\n",
    "data_copy = data_copy.applymap(round)"
   ]
  },
  {
   "cell_type": "code",
   "execution_count": 40,
   "metadata": {},
   "outputs": [],
   "source": [
    "# return to original values before encoding\n",
    "def return_houseType(value):\n",
    "    return houseType_list[value]\n",
    "\n",
    "def return_area(value):\n",
    "    return area_list[value]\n",
    "\n",
    "def return_city(value):\n",
    "    return city_list[value]\n",
    "\n",
    "\n",
    "data_copy['HouseType'] = data_copy['HouseType'].apply(return_houseType)\n",
    "data_copy['Area'] = data_copy['Area'].apply(return_area)\n",
    "data_copy['City'] = data_copy['City'].apply(return_city)"
   ]
  },
  {
   "cell_type": "code",
   "execution_count": 41,
   "metadata": {},
   "outputs": [
    {
     "name": "stdout",
     "output_type": "stream",
     "text": [
      "(12066, 29)\n",
      "(12017, 23)\n"
     ]
    }
   ],
   "source": [
    "print(original_df.shape)\n",
    "print(data_copy.shape)"
   ]
  },
  {
   "cell_type": "code",
   "execution_count": 42,
   "metadata": {},
   "outputs": [],
   "source": [
    "# Save `Description` to file\n",
    "d = data.Description.to_list()\n",
    "with open('../dataset/descriptions.txt', 'w', encoding='utf-8') as file:\n",
    "    for line in d:\n",
    "        file.write(line)\n",
    "file.close()"
   ]
  },
  {
   "cell_type": "code",
   "execution_count": 43,
   "metadata": {},
   "outputs": [],
   "source": [
    "# Save dataset to file\n",
    "data_copy.to_csv('../dataset/processed_data.csv', index=False)"
   ]
  },
  {
   "cell_type": "code",
   "execution_count": null,
   "metadata": {},
   "outputs": [],
   "source": []
  }
 ],
 "metadata": {
  "kernelspec": {
   "display_name": "Python 3",
   "language": "python",
   "name": "python3"
  },
  "language_info": {
   "codemirror_mode": {
    "name": "ipython",
    "version": 3
   },
   "file_extension": ".py",
   "mimetype": "text/x-python",
   "name": "python",
   "nbconvert_exporter": "python",
   "pygments_lexer": "ipython3",
   "version": "3.11.3"
  }
 },
 "nbformat": 4,
 "nbformat_minor": 2
}
