{
 "cells": [
  {
   "cell_type": "code",
   "execution_count": 1,
   "id": "5f1f00b8",
   "metadata": {},
   "outputs": [],
   "source": [
    "import pandas as pd\n",
    "import numpy as np\n",
    "import matplotlib.pyplot as plt\n",
    "import seaborn as sns\n",
    "from sklearn.ensemble import RandomForestRegressor\n",
    "from sklearn.model_selection import train_test_split, cross_val_score\n",
    "from sklearn.metrics import mean_absolute_error, mean_squared_error, r2_score\n",
    "import joblib\n",
    "\n",
    "standardScaler = joblib.load('../pipeline/StandardScalerPipeline.pkl')"
   ]
  },
  {
   "cell_type": "code",
   "execution_count": 2,
   "id": "17c9ddd9",
   "metadata": {},
   "outputs": [],
   "source": [
    "X = pd.read_csv('../dataset/X.csv')\n",
    "y = pd.read_csv('../dataset/y.csv')"
   ]
  },
  {
   "cell_type": "code",
   "execution_count": 3,
   "id": "806772b5",
   "metadata": {},
   "outputs": [
    {
     "data": {
      "text/html": [
       "<div>\n",
       "<style scoped>\n",
       "    .dataframe tbody tr th:only-of-type {\n",
       "        vertical-align: middle;\n",
       "    }\n",
       "\n",
       "    .dataframe tbody tr th {\n",
       "        vertical-align: top;\n",
       "    }\n",
       "\n",
       "    .dataframe thead th {\n",
       "        text-align: right;\n",
       "    }\n",
       "</style>\n",
       "<table border=\"1\" class=\"dataframe\">\n",
       "  <thead>\n",
       "    <tr style=\"text-align: right;\">\n",
       "      <th></th>\n",
       "      <th>Size</th>\n",
       "      <th>Bedrooms</th>\n",
       "      <th>Bathrooms</th>\n",
       "      <th>Lat</th>\n",
       "      <th>Long</th>\n",
       "      <th>Amenities_Score</th>\n",
       "      <th>BedtoBath_Ratio</th>\n",
       "      <th>Furnished</th>\n",
       "      <th>Apartment</th>\n",
       "      <th>Duplex</th>\n",
       "      <th>Penthouse</th>\n",
       "      <th>Room</th>\n",
       "      <th>Studio</th>\n",
       "      <th>TotalRooms</th>\n",
       "      <th>Level_category</th>\n",
       "      <th>accessibility_score</th>\n",
       "    </tr>\n",
       "  </thead>\n",
       "  <tbody>\n",
       "    <tr>\n",
       "      <th>0</th>\n",
       "      <td>165</td>\n",
       "      <td>3</td>\n",
       "      <td>3</td>\n",
       "      <td>30.093319</td>\n",
       "      <td>31.637916</td>\n",
       "      <td>8</td>\n",
       "      <td>1.000000</td>\n",
       "      <td>1</td>\n",
       "      <td>1</td>\n",
       "      <td>0</td>\n",
       "      <td>0</td>\n",
       "      <td>0</td>\n",
       "      <td>0</td>\n",
       "      <td>6</td>\n",
       "      <td>0</td>\n",
       "      <td>0</td>\n",
       "    </tr>\n",
       "    <tr>\n",
       "      <th>1</th>\n",
       "      <td>225</td>\n",
       "      <td>3</td>\n",
       "      <td>3</td>\n",
       "      <td>30.023628</td>\n",
       "      <td>31.304425</td>\n",
       "      <td>5</td>\n",
       "      <td>1.000000</td>\n",
       "      <td>1</td>\n",
       "      <td>1</td>\n",
       "      <td>0</td>\n",
       "      <td>0</td>\n",
       "      <td>0</td>\n",
       "      <td>0</td>\n",
       "      <td>6</td>\n",
       "      <td>0</td>\n",
       "      <td>0</td>\n",
       "    </tr>\n",
       "    <tr>\n",
       "      <th>2</th>\n",
       "      <td>280</td>\n",
       "      <td>4</td>\n",
       "      <td>3</td>\n",
       "      <td>30.052118</td>\n",
       "      <td>31.342205</td>\n",
       "      <td>7</td>\n",
       "      <td>0.750000</td>\n",
       "      <td>0</td>\n",
       "      <td>1</td>\n",
       "      <td>0</td>\n",
       "      <td>0</td>\n",
       "      <td>0</td>\n",
       "      <td>0</td>\n",
       "      <td>7</td>\n",
       "      <td>0</td>\n",
       "      <td>0</td>\n",
       "    </tr>\n",
       "    <tr>\n",
       "      <th>3</th>\n",
       "      <td>120</td>\n",
       "      <td>3</td>\n",
       "      <td>2</td>\n",
       "      <td>30.052118</td>\n",
       "      <td>31.342205</td>\n",
       "      <td>6</td>\n",
       "      <td>0.666667</td>\n",
       "      <td>1</td>\n",
       "      <td>1</td>\n",
       "      <td>0</td>\n",
       "      <td>0</td>\n",
       "      <td>0</td>\n",
       "      <td>0</td>\n",
       "      <td>5</td>\n",
       "      <td>0</td>\n",
       "      <td>0</td>\n",
       "    </tr>\n",
       "    <tr>\n",
       "      <th>4</th>\n",
       "      <td>197</td>\n",
       "      <td>3</td>\n",
       "      <td>3</td>\n",
       "      <td>30.051086</td>\n",
       "      <td>31.537079</td>\n",
       "      <td>8</td>\n",
       "      <td>1.000000</td>\n",
       "      <td>0</td>\n",
       "      <td>1</td>\n",
       "      <td>0</td>\n",
       "      <td>0</td>\n",
       "      <td>0</td>\n",
       "      <td>0</td>\n",
       "      <td>6</td>\n",
       "      <td>0</td>\n",
       "      <td>0</td>\n",
       "    </tr>\n",
       "  </tbody>\n",
       "</table>\n",
       "</div>"
      ],
      "text/plain": [
       "   Size  Bedrooms  Bathrooms        Lat       Long  Amenities_Score  \\\n",
       "0   165         3          3  30.093319  31.637916                8   \n",
       "1   225         3          3  30.023628  31.304425                5   \n",
       "2   280         4          3  30.052118  31.342205                7   \n",
       "3   120         3          2  30.052118  31.342205                6   \n",
       "4   197         3          3  30.051086  31.537079                8   \n",
       "\n",
       "   BedtoBath_Ratio  Furnished  Apartment  Duplex  Penthouse  Room  Studio  \\\n",
       "0         1.000000          1          1       0          0     0       0   \n",
       "1         1.000000          1          1       0          0     0       0   \n",
       "2         0.750000          0          1       0          0     0       0   \n",
       "3         0.666667          1          1       0          0     0       0   \n",
       "4         1.000000          0          1       0          0     0       0   \n",
       "\n",
       "   TotalRooms  Level_category  accessibility_score  \n",
       "0           6               0                    0  \n",
       "1           6               0                    0  \n",
       "2           7               0                    0  \n",
       "3           5               0                    0  \n",
       "4           6               0                    0  "
      ]
     },
     "execution_count": 3,
     "metadata": {},
     "output_type": "execute_result"
    }
   ],
   "source": [
    "X.head()"
   ]
  },
  {
   "cell_type": "code",
   "execution_count": 4,
   "id": "7c42a7da",
   "metadata": {},
   "outputs": [
    {
     "data": {
      "text/plain": [
       "array([35000, 77000, 30000,  1500, 22000], dtype=int64)"
      ]
     },
     "execution_count": 4,
     "metadata": {},
     "output_type": "execute_result"
    }
   ],
   "source": [
    "y = np.array(y).ravel()\n",
    "y[:5]"
   ]
  },
  {
   "cell_type": "code",
   "execution_count": 5,
   "id": "e60c98cb",
   "metadata": {},
   "outputs": [
    {
     "name": "stderr",
     "output_type": "stream",
     "text": [
      "d:\\installled_programs\\miniconda\\envs\\cairohouse\\lib\\site-packages\\sklearn\\utils\\validation.py:767: FutureWarning: is_sparse is deprecated and will be removed in a future version. Check `isinstance(dtype, pd.SparseDtype)` instead.\n",
      "  if not hasattr(array, \"sparse\") and array.dtypes.apply(is_sparse).any():\n",
      "d:\\installled_programs\\miniconda\\envs\\cairohouse\\lib\\site-packages\\sklearn\\utils\\validation.py:605: FutureWarning: is_sparse is deprecated and will be removed in a future version. Check `isinstance(dtype, pd.SparseDtype)` instead.\n",
      "  if is_sparse(pd_dtype):\n",
      "d:\\installled_programs\\miniconda\\envs\\cairohouse\\lib\\site-packages\\sklearn\\utils\\validation.py:614: FutureWarning: is_sparse is deprecated and will be removed in a future version. Check `isinstance(dtype, pd.SparseDtype)` instead.\n",
      "  if is_sparse(pd_dtype) or not is_extension_array_dtype(pd_dtype):\n",
      "d:\\installled_programs\\miniconda\\envs\\cairohouse\\lib\\site-packages\\sklearn\\utils\\validation.py:767: FutureWarning: is_sparse is deprecated and will be removed in a future version. Check `isinstance(dtype, pd.SparseDtype)` instead.\n",
      "  if not hasattr(array, \"sparse\") and array.dtypes.apply(is_sparse).any():\n",
      "d:\\installled_programs\\miniconda\\envs\\cairohouse\\lib\\site-packages\\sklearn\\utils\\validation.py:605: FutureWarning: is_sparse is deprecated and will be removed in a future version. Check `isinstance(dtype, pd.SparseDtype)` instead.\n",
      "  if is_sparse(pd_dtype):\n",
      "d:\\installled_programs\\miniconda\\envs\\cairohouse\\lib\\site-packages\\sklearn\\utils\\validation.py:614: FutureWarning: is_sparse is deprecated and will be removed in a future version. Check `isinstance(dtype, pd.SparseDtype)` instead.\n",
      "  if is_sparse(pd_dtype) or not is_extension_array_dtype(pd_dtype):\n"
     ]
    }
   ],
   "source": [
    "stdX = standardScaler.transform(X)"
   ]
  },
  {
   "cell_type": "code",
   "execution_count": 6,
   "id": "72a37624",
   "metadata": {},
   "outputs": [
    {
     "name": "stdout",
     "output_type": "stream",
     "text": [
      "(9548, 16)\n",
      "(9548,)\n",
      "(1061, 16)\n",
      "(1061,)\n"
     ]
    }
   ],
   "source": [
    "X_train, X_test, y_train, y_test = train_test_split(stdX, y, test_size=0.1, random_state=42)\n",
    "print(X_train.shape)\n",
    "print(y_train.shape)\n",
    "print(X_test.shape)\n",
    "print(y_test.shape)"
   ]
  },
  {
   "cell_type": "code",
   "execution_count": 7,
   "id": "04074322",
   "metadata": {},
   "outputs": [],
   "source": [
    "def print_metrics(y_true, preds):\n",
    "    mae = mean_absolute_error(y_true, preds)\n",
    "    mse = mean_squared_error(y_true, preds)\n",
    "    rmse = np.sqrt(mse)\n",
    "    r2 = r2_score(y_true, preds)\n",
    "    print(f'MAE: {mae:.2f}')\n",
    "    print(f'RMSE: {rmse:.2f}')\n",
    "    print(f'R2:{r2:.4f}\\n')\n",
    "\n",
    "def cv_evaluate(model):\n",
    "    # Check CV Scores\n",
    "    scores = cross_val_score(model, X_train, y_train, cv=5)\n",
    "    train_preds = model.predict(X_train)\n",
    "    test_preds = model.predict(X_test)\n",
    "    print('Cross Validation Scores:')\n",
    "    print(f'CV_scores = {scores}')\n",
    "    print('CV mean:', \"{:.4f}\".format(np.mean(scores)))\n",
    "    print('CV Std:', \"{:.4f}\".format(np.std(scores)), '\\n')\n",
    "\n",
    "    # print Accuracy Scores\n",
    "    print(\"Train Scores:\")\n",
    "    print_metrics(y_train, train_preds)\n",
    "    print(\"Test Scores:\")\n",
    "    print_metrics(y_test, test_preds)"
   ]
  },
  {
   "cell_type": "code",
   "execution_count": 8,
   "id": "e0d9cb00",
   "metadata": {},
   "outputs": [
    {
     "name": "stdout",
     "output_type": "stream",
     "text": [
      "Cross Validation Scores:\n",
      "CV_scores = [0.60588734 0.6073016  0.64111168 0.61337914 0.60598136]\n",
      "CV mean: 0.6147\n",
      "CV Std: 0.0135 \n",
      "\n",
      "Train Scores:\n",
      "MAE: 5250.78\n",
      "RMSE: 8028.52\n",
      "R2:0.6945\n",
      "\n",
      "Test Scores:\n",
      "MAE: 5845.04\n",
      "RMSE: 8736.75\n",
      "R2:0.6149\n",
      "\n"
     ]
    }
   ],
   "source": [
    "rf_model = RandomForestRegressor(\n",
    "    n_estimators=100,\n",
    "    max_depth=15,\n",
    "    min_samples_leaf=5,\n",
    "    min_samples_split=15,\n",
    "    max_features='sqrt',\n",
    "    bootstrap=True,\n",
    ")\n",
    "rf_model.fit(X_train, y_train)\n",
    "cv_evaluate(rf_model)"
   ]
  },
  {
   "cell_type": "code",
   "execution_count": 9,
   "id": "487a246e",
   "metadata": {},
   "outputs": [
    {
     "name": "stdout",
     "output_type": "stream",
     "text": [
      "Fitting 3 folds for each of 108 candidates, totalling 324 fits\n",
      "Best parameters found: {'max_depth': 20, 'max_features': 'log2', 'min_samples_leaf': 5, 'min_samples_split': 10, 'n_estimators': 200}\n"
     ]
    }
   ],
   "source": [
    "param_grid = {\n",
    "    'n_estimators': [100, 200],\n",
    "    'max_depth': [10, 15, 20],\n",
    "    'min_samples_leaf': [5, 10, 15],\n",
    "    'min_samples_split': [5, 10, 15],\n",
    "    'max_features': ['sqrt', 'log2']\n",
    "}\n",
    "\n",
    "from sklearn.model_selection import GridSearchCV\n",
    "grid_search = GridSearchCV(estimator=rf_model, param_grid=param_grid, cv=3, n_jobs=-1, verbose=2, scoring='neg_mean_absolute_error')\n",
    "grid_search.fit(X_train, y_train)\n",
    "print(f'Best parameters found: {grid_search.best_params_}')"
   ]
  },
  {
   "cell_type": "code",
   "execution_count": 10,
   "id": "5b881939",
   "metadata": {},
   "outputs": [
    {
     "name": "stdout",
     "output_type": "stream",
     "text": [
      "Cross Validation Scores:\n",
      "CV_scores = [0.60833673 0.60598614 0.64772391 0.61473637 0.60592581]\n",
      "CV mean: 0.6165\n",
      "CV Std: 0.0159 \n",
      "\n",
      "Train Scores:\n",
      "MAE: 5144.31\n",
      "RMSE: 7886.42\n",
      "R2:0.7052\n",
      "\n",
      "Test Scores:\n",
      "MAE: 5788.03\n",
      "RMSE: 8663.68\n",
      "R2:0.6213\n",
      "\n"
     ]
    }
   ],
   "source": [
    "best_rf_model = grid_search.best_estimator_\n",
    "cv_evaluate(best_rf_model)"
   ]
  },
  {
   "cell_type": "markdown",
   "id": "fb1ace7f",
   "metadata": {},
   "source": [
    "## Train on all dataset"
   ]
  },
  {
   "cell_type": "code",
   "execution_count": 11,
   "id": "721c9721",
   "metadata": {},
   "outputs": [
    {
     "name": "stdout",
     "output_type": "stream",
     "text": [
      "MAE: 5154.45\n",
      "RMSE: 7882.30\n",
      "R2:0.7037\n",
      "\n"
     ]
    }
   ],
   "source": [
    "best_rf_model = RandomForestRegressor(\n",
    "    n_estimators=200,\n",
    "    max_depth=15,\n",
    "    min_samples_leaf=5,\n",
    "    min_samples_split=5,\n",
    "    max_features='sqrt',\n",
    "    bootstrap=True,\n",
    ")\n",
    "best_rf_model.fit(stdX, y)\n",
    "print_metrics(y, best_rf_model.predict(stdX))"
   ]
  },
  {
   "cell_type": "code",
   "execution_count": 28,
   "id": "6a50e7c9",
   "metadata": {},
   "outputs": [
    {
     "data": {
      "text/plain": [
       "<Axes: title={'center': 'Feature Importance'}>"
      ]
     },
     "execution_count": 28,
     "metadata": {},
     "output_type": "execute_result"
    },
    {
     "data": {
      "image/png": "[encoded data removed]",
      "text/plain": [
       "<Figure size 800x600 with 1 Axes>"
      ]
     },
     "metadata": {},
     "output_type": "display_data"
    }
   ],
   "source": [
    "pd.DataFrame(best_rf_model.feature_importances_, index=X.columns, columns=['importance']) \\\n",
    "    .sort_values('importance', ascending=True) \\\n",
    "    .plot(kind='barh', figsize=(8, 6), title='Feature Importance', legend=False)"
   ]
  },
  {
   "cell_type": "markdown",
   "id": "583a53c2",
   "metadata": {},
   "source": [
    "## Save the model to file"
   ]
  },
  {
   "cell_type": "code",
   "execution_count": 12,
   "id": "4497ff3d",
   "metadata": {},
   "outputs": [
    {
     "data": {
      "text/plain": [
       "['../pipeline/rf_model.pkl']"
      ]
     },
     "execution_count": 12,
     "metadata": {},
     "output_type": "execute_result"
    }
   ],
   "source": [
    "joblib.dump(best_rf_model, '../pipeline/rf_model.pkl')"
   ]
  },
  {
   "cell_type": "code",
   "execution_count": null,
   "id": "69202883",
   "metadata": {},
   "outputs": [],
   "source": []
  }
 ],
 "metadata": {
  "kernelspec": {
   "display_name": "cairohouse",
   "language": "python",
   "name": "python3"
  },
  "language_info": {
   "codemirror_mode": {
    "name": "ipython",
    "version": 3
   },
   "file_extension": ".py",
   "mimetype": "text/x-python",
   "name": "python",
   "nbconvert_exporter": "python",
   "pygments_lexer": "ipython3",
   "version": "3.9.23"
  }
 },
 "nbformat": 4,
 "nbformat_minor": 5
}
